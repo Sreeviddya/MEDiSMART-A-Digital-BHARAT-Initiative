{
 "cells": [
  {
   "cell_type": "code",
   "execution_count": 16,
   "id": "aed749b2-4b70-4cc5-ae63-f7331f7a037f",
   "metadata": {},
   "outputs": [
    {
     "name": "stdout",
     "output_type": "stream",
     "text": [
      "\n",
      "Enter the following details:\n"
     ]
    },
    {
     "name": "stdin",
     "output_type": "stream",
     "text": [
      "Level_of_Hemoglobin:  23\n",
      "Genetic_Pedigree_Coefficient:  123\n",
      "Age:  23\n",
      "BMI:  23\n",
      "Sex (0=No, 1=Yes):  1\n",
      "Pregnancy (0=No, 1=Yes):  1\n",
      "Smoking (0=No, 1=Yes):  1\n",
      "Physical_activity:  12\n",
      "salt_content_in_the_diet:  12\n",
      "alcohol_consumption_per_day:  12\n",
      "Level_of_Stress:  12\n",
      "Chronic_kidney_disease (0=No, 1=Yes):  1\n",
      "Adrenal_and_thyroid_disorders (0=No, 1=Yes):  1\n"
     ]
    },
    {
     "name": "stdout",
     "output_type": "stream",
     "text": [
      "\n",
      "⚠️ Unable to process prediction. Please ensure correct inputs.\n"
     ]
    }
   ],
   "source": [
    "import pandas as pd\n",
    "import numpy as np\n",
    "import pickle\n",
    "from sklearn.preprocessing import StandardScaler\n",
    "\n",
    "# Load trained model and scaler\n",
    "try:\n",
    "    model = pickle.load(open(\"bp_model.pkl\", \"rb\"))\n",
    "    scaler = pickle.load(open(\"scaler.pkl\", \"rb\"))\n",
    "except FileNotFoundError:\n",
    "    print(\"Error: Model or scaler file not found. Please check the files.\")\n",
    "    exit()\n",
    "\n",
    "# Expected feature names based on model training\n",
    "expected_features = [\n",
    "    \"Level_of_Hemoglobin\", \"Genetic_Pedigree_Coefficient\", \"Age\", \"BMI\", \"Sex\", \"Pregnancy\",\n",
    "    \"Smoking\", \"Physical_activity\", \"salt_content_in_the_diet\", \"alcohol_consumption_per_day\",\n",
    "    \"Level_of_Stress\", \"Chronic_kidney_disease\", \"Adrenal_and_thyroid_disorders\"\n",
    "]\n",
    "\n",
    "# Function to take input from user\n",
    "def get_user_input():\n",
    "    print(\"\\nEnter the following details:\")\n",
    "    user_data = {}\n",
    "\n",
    "    for feature in expected_features:\n",
    "        while True:\n",
    "            try:\n",
    "                if feature in [\"Sex\", \"Smoking\", \"Pregnancy\", \"Chronic_kidney_disease\", \"Adrenal_and_thyroid_disorders\"]:\n",
    "                    value = int(input(f\"{feature} (0=No, 1=Yes): \"))\n",
    "                    if value not in [0, 1]:\n",
    "                        raise ValueError\n",
    "                else:\n",
    "                    value = float(input(f\"{feature}: \"))\n",
    "                user_data[feature] = value\n",
    "                break\n",
    "            except ValueError:\n",
    "                print(\"Invalid input. Please enter a valid number.\")\n",
    "\n",
    "    return user_data\n",
    "\n",
    "# Function to predict Blood Pressure abnormality\n",
    "def predict_bp():\n",
    "    user_data = get_user_input()\n",
    "\n",
    "    # Convert input data into a DataFrame with correct feature order\n",
    "    input_df = pd.DataFrame([user_data])[expected_features]\n",
    "\n",
    "    try:\n",
    "        # Scale the input features\n",
    "        input_data_scaled = scaler.transform(input_df)\n",
    "\n",
    "        # Predict and display the result\n",
    "        prediction = model.predict(input_data_scaled)[0]\n",
    "        print(\"\\n✅ Blood Pressure Status: Normal\" if prediction == 0 else \"\\n⚠️ Blood Pressure Status: Abnormal\")\n",
    "    \n",
    "    except Exception:\n",
    "        print(\"\\n⚠️ Unable to process prediction. Please ensure correct inputs.\")\n",
    "\n",
    "# Run the prediction function\n",
    "if __name__ == \"__main__\":\n",
    "    predict_bp()\n"
   ]
  },
  {
   "cell_type": "code",
   "execution_count": null,
   "id": "95b92a68-64c5-495c-bb4e-58a7522b000f",
   "metadata": {},
   "outputs": [],
   "source": []
  }
 ],
 "metadata": {
  "kernelspec": {
   "display_name": "Python [conda env:base] *",
   "language": "python",
   "name": "conda-base-py"
  },
  "language_info": {
   "codemirror_mode": {
    "name": "ipython",
    "version": 3
   },
   "file_extension": ".py",
   "mimetype": "text/x-python",
   "name": "python",
   "nbconvert_exporter": "python",
   "pygments_lexer": "ipython3",
   "version": "3.12.7"
  }
 },
 "nbformat": 4,
 "nbformat_minor": 5
}

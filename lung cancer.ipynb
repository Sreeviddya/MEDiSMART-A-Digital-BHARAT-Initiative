{
 "cells": [
  {
   "cell_type": "code",
   "execution_count": 25,
   "id": "b188858a-bda1-474b-82a6-b06d27e92b24",
   "metadata": {},
   "outputs": [
    {
     "name": "stdout",
     "output_type": "stream",
     "text": [
      "\n",
      "Enter your details for lung cancer prediction:\n"
     ]
    },
    {
     "name": "stdin",
     "output_type": "stream",
     "text": [
      "Age:  23\n",
      "Cigarettes per day:  2\n",
      "Air Quality (1-10):  7\n",
      "Alcohol consumption (1-10):  4\n"
     ]
    },
    {
     "name": "stdout",
     "output_type": "stream",
     "text": [
      "\n",
      "Prediction: No Lung Cancer Detected\n"
     ]
    }
   ],
   "source": [
    "import pandas as pd\n",
    "import numpy as np\n",
    "import pickle\n",
    "from sklearn.model_selection import train_test_split\n",
    "from sklearn.ensemble import RandomForestClassifier\n",
    "from sklearn.preprocessing import StandardScaler\n",
    "\n",
    "# Load dataset from CSV\n",
    "file_name = \"lungcancer.csv\"  # Ensure this file exists in the same directory\n",
    "data = pd.read_csv(file_name)\n",
    "\n",
    "# Drop unnecessary columns (e.g., Name, Surname if present)\n",
    "if \"Name\" in data.columns and \"Surname\" in data.columns:\n",
    "    data.drop([\"Name\", \"Surname\"], axis=1, inplace=True)\n",
    "\n",
    "# Renaming columns for clarity\n",
    "column_mapping = {\"AreaQ\": \"Air Quality\", \"Alkhol\": \"Alcohol\"}\n",
    "data.rename(columns=column_mapping, inplace=True)\n",
    "\n",
    "# Splitting features and target variable\n",
    "X = data.drop(\"Result\", axis=1)\n",
    "y = data[\"Result\"]\n",
    "\n",
    "# Save column names for later use\n",
    "feature_names = X.columns.tolist()\n",
    "\n",
    "# Standardizing the data\n",
    "scaler = StandardScaler()\n",
    "X_scaled = scaler.fit_transform(X)\n",
    "\n",
    "# Splitting the dataset\n",
    "X_train, X_test, y_train, y_test = train_test_split(X_scaled, y, test_size=0.2, random_state=42)\n",
    "\n",
    "# Train Random Forest Classifier\n",
    "model = RandomForestClassifier(n_estimators=100, random_state=42)\n",
    "model.fit(X_train, y_train)\n",
    "\n",
    "# Save the trained model, scaler, and feature names\n",
    "pickle.dump(model, open(\"lung_cancer_model.pkl\", \"wb\"))\n",
    "pickle.dump(scaler, open(\"lung_cancer_scaler.pkl\", \"wb\"))\n",
    "pickle.dump(feature_names, open(\"lung_cancer_features.pkl\", \"wb\"))\n",
    "\n",
    "\n",
    "# Load the saved model, scaler, and feature names\n",
    "model = pickle.load(open(\"lung_cancer_model.pkl\", \"rb\"))\n",
    "scaler = pickle.load(open(\"lung_cancer_scaler.pkl\", \"rb\"))\n",
    "feature_names = pickle.load(open(\"lung_cancer_features.pkl\", \"rb\"))\n",
    "\n",
    "# Function to make predictions\n",
    "def predict_lung_cancer():\n",
    "    print(\"\\nEnter your details for lung cancer prediction:\")\n",
    "    age = float(input(\"Age: \"))\n",
    "    smokes = float(input(\"Cigarettes per day: \"))\n",
    "    air_quality = float(input(\"Air Quality (1-10): \"))\n",
    "    alcohol = float(input(\"Alcohol consumption (1-10): \"))\n",
    "\n",
    "    # Convert input to DataFrame with correct feature names\n",
    "    user_data = pd.DataFrame([[age, smokes, air_quality, alcohol]], columns=feature_names)\n",
    "    user_data_scaled = scaler.transform(user_data)\n",
    "\n",
    "    prediction = model.predict(user_data_scaled)\n",
    "    result = \"Lung Cancer Detected\" if prediction[0] == 1 else \"No Lung Cancer Detected\"\n",
    "    print(f\"\\nPrediction: {result}\")\n",
    "\n",
    "# Call prediction function\n",
    "predict_lung_cancer()\n"
   ]
  },
  {
   "cell_type": "code",
   "execution_count": null,
   "id": "9e93198d-2a60-4171-bc70-e94d10d045f0",
   "metadata": {},
   "outputs": [],
   "source": []
  }
 ],
 "metadata": {
  "kernelspec": {
   "display_name": "Python [conda env:base] *",
   "language": "python",
   "name": "conda-base-py"
  },
  "language_info": {
   "codemirror_mode": {
    "name": "ipython",
    "version": 3
   },
   "file_extension": ".py",
   "mimetype": "text/x-python",
   "name": "python",
   "nbconvert_exporter": "python",
   "pygments_lexer": "ipython3",
   "version": "3.12.7"
  }
 },
 "nbformat": 4,
 "nbformat_minor": 5
}

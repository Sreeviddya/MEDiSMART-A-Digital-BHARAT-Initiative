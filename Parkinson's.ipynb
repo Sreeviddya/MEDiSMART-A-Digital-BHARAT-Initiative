{
 "cells": [
  {
   "cell_type": "code",
   "execution_count": 9,
   "id": "8ad09b02-9b3f-4167-a269-f9e6b5377948",
   "metadata": {},
   "outputs": [
    {
     "name": "stdout",
     "output_type": "stream",
     "text": [
      "Enter the following details for Parkinson’s disease prediction:\n"
     ]
    },
    {
     "name": "stdin",
     "output_type": "stream",
     "text": [
      "Enter MDVP:Fo(Hz):  23\n",
      "Enter MDVP:Fhi(Hz):  23\n",
      "Enter MDVP:Flo(Hz):  234\n",
      "Enter MDVP:Jitter(%):  234\n",
      "Enter MDVP:Jitter(Abs):  23\n",
      "Enter MDVP:RAP:  23\n",
      "Enter MDVP:PPQ:  23\n",
      "Enter Jitter:DDP:  23\n",
      "Enter MDVP:Shimmer:  234\n",
      "Enter MDVP:Shimmer(dB):  23\n",
      "Enter Shimmer:APQ3:  423\n",
      "Enter Shimmer:APQ5:  423\n",
      "Enter MDVP:APQ:  23\n",
      "Enter Shimmer:DDA:  234\n",
      "Enter NHR:  23\n",
      "Enter HNR:  23\n",
      "Enter RPDE:  23\n",
      "Enter DFA:  23\n",
      "Enter spread1:  23\n",
      "Enter spread2:  23\n",
      "Enter D2:  23\n",
      "Enter PPE:  23\n"
     ]
    },
    {
     "name": "stdout",
     "output_type": "stream",
     "text": [
      "Prediction: The person has Parkinson’s disease.\n"
     ]
    }
   ],
   "source": [
    "import numpy as np\n",
    "import pandas as pd\n",
    "import pickle\n",
    "from sklearn.model_selection import train_test_split\n",
    "from sklearn.preprocessing import StandardScaler\n",
    "from sklearn.ensemble import RandomForestClassifier\n",
    "\n",
    "# Load dataset\n",
    "data = pd.read_csv(\"parkinsons.csv\")  # Ensure the file exists\n",
    "\n",
    "# Drop non-numeric columns\n",
    "data = data.drop(columns=[\"name\"])  \n",
    "\n",
    "# Separate features and target variable\n",
    "X = data.drop(columns=[\"status\"])\n",
    "y = data[\"status\"]\n",
    "\n",
    "# Split the data\n",
    "X_train, X_test, y_train, y_test = train_test_split(X, y, test_size=0.2, random_state=42)\n",
    "\n",
    "# Scale the features\n",
    "scaler = StandardScaler()\n",
    "X_train_scaled = scaler.fit_transform(X_train)\n",
    "X_test_scaled = scaler.transform(X_test)\n",
    "\n",
    "# Train model\n",
    "model = RandomForestClassifier(n_estimators=100, random_state=42)\n",
    "model.fit(X_train_scaled, y_train)\n",
    "\n",
    "# Save the model and scaler\n",
    "pickle.dump(model, open(\"parkinsons_model.pkl\", \"wb\"))\n",
    "pickle.dump(scaler, open(\"scaler.pkl\", \"wb\"))\n",
    "\n",
    "# Function to take user input and make predictions\n",
    "def predict_parkinsons():\n",
    "    print(\"Enter the following details for Parkinson’s disease prediction:\")\n",
    "    input_features = {}\n",
    "\n",
    "    # Feature names (excluding status)\n",
    "    feature_names = list(X.columns)\n",
    "\n",
    "    for feature in feature_names:\n",
    "        value = float(input(f\"Enter {feature}: \"))\n",
    "        input_features[feature] = [value]  # Store as a single-row dictionary\n",
    "    \n",
    "    # Convert input to DataFrame with the correct feature names\n",
    "    input_df = pd.DataFrame(input_features)\n",
    "    \n",
    "    # Load the trained model and scaler\n",
    "    loaded_scaler = pickle.load(open(\"scaler.pkl\", \"rb\"))\n",
    "    loaded_model = pickle.load(open(\"parkinsons_model.pkl\", \"rb\"))\n",
    "    \n",
    "    # Scale input data\n",
    "    input_scaled = loaded_scaler.transform(input_df)\n",
    "    \n",
    "    # Predict\n",
    "    prediction = loaded_model.predict(input_scaled)[0]\n",
    "    \n",
    "    # Output result\n",
    "    if prediction == 1:\n",
    "        print(\"Prediction: The person has Parkinson’s disease.\")\n",
    "    else:\n",
    "        print(\"Prediction: The person does NOT have Parkinson’s disease.\")\n",
    "\n",
    "# Call the function for user input and prediction\n",
    "predict_parkinsons()\n"
   ]
  },
  {
   "cell_type": "code",
   "execution_count": null,
   "id": "b7cf92a1-6ae7-481c-b21e-b802ecd962d7",
   "metadata": {},
   "outputs": [],
   "source": []
  }
 ],
 "metadata": {
  "kernelspec": {
   "display_name": "Python [conda env:base] *",
   "language": "python",
   "name": "conda-base-py"
  },
  "language_info": {
   "codemirror_mode": {
    "name": "ipython",
    "version": 3
   },
   "file_extension": ".py",
   "mimetype": "text/x-python",
   "name": "python",
   "nbconvert_exporter": "python",
   "pygments_lexer": "ipython3",
   "version": "3.12.7"
  }
 },
 "nbformat": 4,
 "nbformat_minor": 5
}
